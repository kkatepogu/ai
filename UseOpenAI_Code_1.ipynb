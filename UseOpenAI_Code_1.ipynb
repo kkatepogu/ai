{
  "nbformat": 4,
  "nbformat_minor": 0,
  "metadata": {
    "colab": {
      "provenance": []
    },
    "kernelspec": {
      "name": "python3",
      "display_name": "Python 3"
    },
    "language_info": {
      "name": "python"
    }
  },
  "cells": [
    {
      "cell_type": "code",
      "execution_count": null,
      "metadata": {
        "id": "P5MapFOYlmrB"
      },
      "outputs": [],
      "source": [
        "int =1232"
      ]
    },
    {
      "cell_type": "code",
      "source": [
        "print (int)"
      ],
      "metadata": {
        "colab": {
          "base_uri": "https://localhost:8080/"
        },
        "id": "QoH9FXY3lqzh",
        "outputId": "20694bd9-7155-4576-8936-e3aaac304eb8"
      },
      "execution_count": null,
      "outputs": [
        {
          "output_type": "stream",
          "name": "stdout",
          "text": [
            "1232\n"
          ]
        }
      ]
    },
    {
      "cell_type": "code",
      "source": [
        "pip install openai"
      ],
      "metadata": {
        "colab": {
          "base_uri": "https://localhost:8080/"
        },
        "id": "zyIflX8CoC0u",
        "outputId": "3a32ce00-4197-4d28-cba9-f1302441108e"
      },
      "execution_count": null,
      "outputs": [
        {
          "output_type": "stream",
          "name": "stdout",
          "text": [
            "Requirement already satisfied: openai in /usr/local/lib/python3.10/dist-packages (1.52.2)\n",
            "Requirement already satisfied: anyio<5,>=3.5.0 in /usr/local/lib/python3.10/dist-packages (from openai) (3.7.1)\n",
            "Requirement already satisfied: distro<2,>=1.7.0 in /usr/local/lib/python3.10/dist-packages (from openai) (1.9.0)\n",
            "Requirement already satisfied: httpx<1,>=0.23.0 in /usr/local/lib/python3.10/dist-packages (from openai) (0.27.2)\n",
            "Requirement already satisfied: jiter<1,>=0.4.0 in /usr/local/lib/python3.10/dist-packages (from openai) (0.6.1)\n",
            "Requirement already satisfied: pydantic<3,>=1.9.0 in /usr/local/lib/python3.10/dist-packages (from openai) (2.9.2)\n",
            "Requirement already satisfied: sniffio in /usr/local/lib/python3.10/dist-packages (from openai) (1.3.1)\n",
            "Requirement already satisfied: tqdm>4 in /usr/local/lib/python3.10/dist-packages (from openai) (4.66.6)\n",
            "Requirement already satisfied: typing-extensions<5,>=4.11 in /usr/local/lib/python3.10/dist-packages (from openai) (4.12.2)\n",
            "Requirement already satisfied: idna>=2.8 in /usr/local/lib/python3.10/dist-packages (from anyio<5,>=3.5.0->openai) (3.10)\n",
            "Requirement already satisfied: exceptiongroup in /usr/local/lib/python3.10/dist-packages (from anyio<5,>=3.5.0->openai) (1.2.2)\n",
            "Requirement already satisfied: certifi in /usr/local/lib/python3.10/dist-packages (from httpx<1,>=0.23.0->openai) (2024.8.30)\n",
            "Requirement already satisfied: httpcore==1.* in /usr/local/lib/python3.10/dist-packages (from httpx<1,>=0.23.0->openai) (1.0.6)\n",
            "Requirement already satisfied: h11<0.15,>=0.13 in /usr/local/lib/python3.10/dist-packages (from httpcore==1.*->httpx<1,>=0.23.0->openai) (0.14.0)\n",
            "Requirement already satisfied: annotated-types>=0.6.0 in /usr/local/lib/python3.10/dist-packages (from pydantic<3,>=1.9.0->openai) (0.7.0)\n",
            "Requirement already satisfied: pydantic-core==2.23.4 in /usr/local/lib/python3.10/dist-packages (from pydantic<3,>=1.9.0->openai) (2.23.4)\n"
          ]
        }
      ]
    },
    {
      "cell_type": "code",
      "source": [
        "import openai"
      ],
      "metadata": {
        "id": "rg_cNVEpoaDm"
      },
      "execution_count": null,
      "outputs": []
    },
    {
      "cell_type": "code",
      "source": [
        "from openai import OpenAI"
      ],
      "metadata": {
        "id": "_y0HNR7FtMOd"
      },
      "execution_count": null,
      "outputs": []
    },
    {
      "cell_type": "code",
      "source": [
        "client = OpenAI(api_key='YOUR OpenAI Key')"
      ],
      "metadata": {
        "id": "uvTzwmeftgJE"
      },
      "execution_count": null,
      "outputs": []
    },
    {
      "cell_type": "code",
      "source": [
        "question =input(\"Ask me anything--\")\n",
        "\n",
        "response = client.chat.completions.create(\n",
        "messages = [\n",
        "{\n",
        "\"role\": \"user\",\n",
        "\"content\": question\n",
        "}\n",
        "],\n",
        "model = \"gpt-3.5-turbo\",\n",
        "temperature = 0,\n",
        "max_tokens = 1024\n",
        ")\n",
        "print (response.choices[0].message.content)"
      ],
      "metadata": {
        "colab": {
          "base_uri": "https://localhost:8080/"
        },
        "id": "tsEwXk4HxocG",
        "outputId": "297eaa54-2656-4b4a-d846-e0d29a36c3ba"
      },
      "execution_count": null,
      "outputs": [
        {
          "output_type": "stream",
          "name": "stdout",
          "text": [
            "Ask me anything--what is AI and why?\n",
            "AI, or artificial intelligence, refers to the simulation of human intelligence processes by machines, especially computer systems. This includes learning, reasoning, problem-solving, perception, and language understanding. AI is used to automate tasks that typically require human intelligence, such as visual perception, speech recognition, decision-making, and language translation.\n",
            "\n",
            "AI is important because it has the potential to revolutionize industries and improve efficiency in various sectors. It can help businesses make better decisions, improve customer service, optimize operations, and develop new products and services. AI also has the potential to solve complex problems in areas such as healthcare, transportation, finance, and cybersecurity. Additionally, AI can help us better understand and address societal challenges, such as climate change, poverty, and inequality.\n"
          ]
        }
      ]
    },
    {
      "cell_type": "code",
      "source": [],
      "metadata": {
        "id": "LEZWAL_Rft3W"
      },
      "execution_count": null,
      "outputs": []
    },
    {
      "cell_type": "code",
      "source": [
        "import pandas as pd\n",
        "data = {'Name': ['Alice', 'Bob', 'Charlie'], 'Age': [25, 30, 35], 'Job':['Programmer','Engineer','Technial Lead']}\n",
        "df = pd.DataFrame(data)\n",
        "print (df)\n",
        "data1={'Topic':['SAP','AI','.NET Core','Python Basic','Java']}\n",
        "df1 = pd.DataFrame(data1)\n",
        "for index, row in df1.iterrows():\n",
        "\n",
        "  response = client.chat.completions.create(\n",
        "        messages = [\n",
        "        {\n",
        "        \"role\": \"user\",\n",
        "        \"content\": row['Topic']\n",
        "        }\n",
        "        ],\n",
        "        model = \"gpt-3.5-turbo\",\n",
        "        temperature = 0,\n",
        "        max_tokens = 1024\n",
        "  )\n",
        "  print(row['Topic'])\n",
        "  print (response.choices[0].message.content)\n"
      ],
      "metadata": {
        "colab": {
          "base_uri": "https://localhost:8080/"
        },
        "id": "gkL004pyctAW",
        "outputId": "29dce9b6-ace3-4f36-8182-fc5c21b9e76e"
      },
      "execution_count": null,
      "outputs": [
        {
          "output_type": "stream",
          "name": "stdout",
          "text": [
            "      Name  Age            Job\n",
            "0    Alice   25     Programmer\n",
            "1      Bob   30       Engineer\n",
            "2  Charlie   35  Technial Lead\n",
            "SAP\n",
            "SAP stands for Systems, Applications, and Products in Data Processing. It is a German multinational software corporation that develops enterprise software to manage business operations and customer relations. SAP is best known for its ERP (Enterprise Resource Planning) software, which helps companies streamline their business processes and improve efficiency. SAP also offers a wide range of other software solutions, including CRM (Customer Relationship Management), SCM (Supply Chain Management), and BI (Business Intelligence) tools.\n",
            "AI\n",
            "AI stands for artificial intelligence, which refers to the simulation of human intelligence processes by machines, especially computer systems. AI technologies are used in a wide range of applications, including speech recognition, image recognition, natural language processing, and autonomous vehicles.\n",
            ".NET Core\n",
            ".NET Core is a free, open-source, cross-platform framework developed by Microsoft for building modern, cloud-based, and internet-connected applications. It is a modular framework that allows developers to build applications for Windows, macOS, and Linux operating systems. .NET Core is designed to be lightweight, fast, and scalable, making it ideal for building high-performance applications. It also includes a set of libraries and tools that simplify the development process and improve developer productivity.\n",
            "Python Basic\n",
            "Python is a high-level, interpreted programming language known for its simplicity and readability. It is widely used for web development, data analysis, artificial intelligence, and scientific computing. Python code is typically written in plain text files with a .py extension and executed using an interpreter.\n",
            "\n",
            "Here are some basic concepts in Python:\n",
            "\n",
            "1. Variables: Variables are used to store data values. In Python, you can create a variable by assigning a value to it using the = operator.\n",
            "\n",
            "Example:\n",
            "```python\n",
            "x = 5\n",
            "name = \"Alice\"\n",
            "```\n",
            "\n",
            "2. Data types: Python supports various data types such as integers, floats, strings, lists, tuples, dictionaries, and more.\n",
            "\n",
            "Example:\n",
            "```python\n",
            "num = 10\n",
            "pi = 3.14\n",
            "message = \"Hello, World!\"\n",
            "my_list = [1, 2, 3, 4, 5]\n",
            "```\n",
            "\n",
            "3. Control structures: Python provides control structures like if-else statements, loops (for and while), and functions to control the flow of a program.\n",
            "\n",
            "Example:\n",
            "```python\n",
            "if x > 0:\n",
            "    print(\"Positive number\")\n",
            "else:\n",
            "    print(\"Negative number\")\n",
            "```\n",
            "\n",
            "4. Functions: Functions are blocks of reusable code that perform a specific task. You can define your own functions in Python using the def keyword.\n",
            "\n",
            "Example:\n",
            "```python\n",
            "def greet(name):\n",
            "    print(\"Hello, \" + name)\n",
            "\n",
            "greet(\"Alice\")\n",
            "```\n",
            "\n",
            "5. Modules: Python modules are files containing Python code that can be imported and used in other Python programs. Python has a rich standard library with many built-in modules for various tasks.\n",
            "\n",
            "Example:\n",
            "```python\n",
            "import math\n",
            "\n",
            "print(math.sqrt(16))\n",
            "```\n",
            "\n",
            "These are just a few basic concepts in Python. Python has a vast ecosystem of libraries and frameworks that make it a versatile and powerful language for a wide range of applications.\n",
            "Java\n",
            "Java is a high-level, object-oriented programming language developed by Sun Microsystems (now owned by Oracle) in the mid-1990s. It is known for its platform independence, meaning that Java programs can run on any device that has a Java Virtual Machine (JVM) installed. Java is widely used for developing web applications, mobile apps, desktop applications, and enterprise software. It is also used in embedded systems, scientific research, and data analysis. Java is known for its simplicity, readability, and robustness, making it a popular choice for developers worldwide.\n"
          ]
        }
      ]
    }
  ]
}